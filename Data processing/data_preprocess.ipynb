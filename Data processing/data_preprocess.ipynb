{
 "cells": [
  {
   "cell_type": "code",
   "execution_count": 26,
   "metadata": {},
   "outputs": [
    {
     "name": "stderr",
     "output_type": "stream",
     "text": [
      "[nltk_data] Downloading package punkt to /home/mukesh/nltk_data...\n",
      "[nltk_data]   Package punkt is already up-to-date!\n",
      "[nltk_data] Downloading package wordnet to /home/mukesh/nltk_data...\n"
     ]
    },
    {
     "data": {
      "text/plain": [
       "True"
      ]
     },
     "execution_count": 26,
     "metadata": {},
     "output_type": "execute_result"
    }
   ],
   "source": [
    "import pandas as pd\n",
    "import numpy as np\n",
    "import matplotlib.pyplot as plt\n",
    "import seaborn as sns\n",
    "import string\n",
    "import re\n",
    "from sklearn.feature_extraction.text import TfidfVectorizer\n",
    "from sklearn.decomposition import PCA\n",
    "from sklearn.linear_model import LogisticRegression\n",
    "from sklearn.model_selection import train_test_split\n",
    "from sklearn.metrics import confusion_matrix, classification_report\n",
    "from sklearn.manifold import TSNE\n",
    "from nltk.tokenize import word_tokenize, sent_tokenize\n",
    "from nltk.stem import WordNetLemmatizer\n",
    "from imblearn.over_sampling import SMOTE\n",
    "import spacy\n",
    "import gc\n",
    "\n",
    "# Ensure necessary NLTK resources are downloaded\n",
    "import nltk\n",
    "nltk.download('punkt')\n",
    "nltk.download('wordnet')\n"
   ]
  },
  {
   "cell_type": "code",
   "execution_count": 28,
   "metadata": {},
   "outputs": [
    {
     "name": "stdout",
     "output_type": "stream",
     "text": [
      "Index(['Unnamed: 0', 'description', 'medical_specialty', 'sample_name',\n",
      "       'transcription', 'keywords', 'Unnamed: 6', 'Unnamed: 7'],\n",
      "      dtype='object')\n",
      "   Unnamed: 0                                        description  \\\n",
      "0           0   A 23-year-old white female presents with comp...   \n",
      "1           1           Consult for laparoscopic gastric bypass.   \n",
      "2           2           Consult for laparoscopic gastric bypass.   \n",
      "3           3                             2-D M-Mode. Doppler.     \n",
      "4           4                                 2-D Echocardiogram   \n",
      "\n",
      "             medical_specialty                                sample_name  \\\n",
      "0         Allergy / Immunology                         Allergic Rhinitis    \n",
      "1                   Bariatrics   Laparoscopic Gastric Bypass Consult - 2    \n",
      "2                   Bariatrics   Laparoscopic Gastric Bypass Consult - 1    \n",
      "3   Cardiovascular / Pulmonary                    2-D Echocardiogram - 1    \n",
      "4   Cardiovascular / Pulmonary                    2-D Echocardiogram - 2    \n",
      "\n",
      "                                       transcription  \\\n",
      "0  SUBJECTIVE:,  This 23-year-old white female pr...   \n",
      "1  PAST MEDICAL HISTORY:, He has difficulty climb...   \n",
      "2  HISTORY OF PRESENT ILLNESS: , I have seen ABC ...   \n",
      "3  2-D M-MODE: , ,1.  Left atrial enlargement wit...   \n",
      "4  1.  The left ventricular cavity size and wall ...   \n",
      "\n",
      "                                            keywords Unnamed: 6 Unnamed: 7  \n",
      "0  allergy / immunology, allergic rhinitis, aller...        NaN        NaN  \n",
      "1  bariatrics, laparoscopic gastric bypass, weigh...        NaN        NaN  \n",
      "2  bariatrics, laparoscopic gastric bypass, heart...        NaN        NaN  \n",
      "3  cardiovascular / pulmonary, 2-d m-mode, dopple...        NaN        NaN  \n",
      "4  cardiovascular / pulmonary, 2-d, doppler, echo...        NaN        NaN  \n"
     ]
    }
   ],
   "source": [
    "# Load data\n",
    "clinical_text_df = pd.read_csv(\"/home/mukesh/Github-my repos/Generative AI projects/Laser Approach/Tap health/Medical-Diagnosis-Chatbot-Using-Gen-AI/Dataset/mtsamples.csv\")\n",
    "\n",
    "# Check columns and head of the dataframe\n",
    "print(clinical_text_df.columns)\n",
    "print(clinical_text_df.head(5))\n"
   ]
  },
  {
   "cell_type": "code",
   "execution_count": 29,
   "metadata": {},
   "outputs": [
    {
     "ename": "LookupError",
     "evalue": "\n**********************************************************************\n  Resource \u001b[93mpunkt_tab\u001b[0m not found.\n  Please use the NLTK Downloader to obtain the resource:\n\n  \u001b[31m>>> import nltk\n  >>> nltk.download('punkt_tab')\n  \u001b[0m\n  For more information see: https://www.nltk.org/data.html\n\n  Attempted to load \u001b[93mtokenizers/punkt_tab/english/\u001b[0m\n\n  Searched in:\n    - '/home/mukesh/nltk_data'\n    - '/home/mukesh/Github-my repos/Generative AI projects/Laser Approach/Tap health/Medical-Diagnosis-Chatbot-Using-Gen-AI/venv/nltk_data'\n    - '/home/mukesh/Github-my repos/Generative AI projects/Laser Approach/Tap health/Medical-Diagnosis-Chatbot-Using-Gen-AI/venv/share/nltk_data'\n    - '/home/mukesh/Github-my repos/Generative AI projects/Laser Approach/Tap health/Medical-Diagnosis-Chatbot-Using-Gen-AI/venv/lib/nltk_data'\n    - '/usr/share/nltk_data'\n    - '/usr/local/share/nltk_data'\n    - '/usr/lib/nltk_data'\n    - '/usr/local/lib/nltk_data'\n**********************************************************************\n",
     "output_type": "error",
     "traceback": [
      "\u001b[0;31m---------------------------------------------------------------------------\u001b[0m",
      "\u001b[0;31mLookupError\u001b[0m                               Traceback (most recent call last)",
      "Cell \u001b[0;32mIn[29], line 23\u001b[0m\n\u001b[1;32m     20\u001b[0m     \u001b[38;5;28;01mreturn\u001b[39;00m sent_count, word_count\n\u001b[1;32m     22\u001b[0m \u001b[38;5;66;03m# Get sentence and word count\u001b[39;00m\n\u001b[0;32m---> 23\u001b[0m sent_count, word_count \u001b[38;5;241m=\u001b[39m \u001b[43mget_sentence_word_count\u001b[49m\u001b[43m(\u001b[49m\u001b[43mclinical_text_df\u001b[49m\u001b[43m[\u001b[49m\u001b[38;5;124;43m'\u001b[39;49m\u001b[38;5;124;43mtranscription\u001b[39;49m\u001b[38;5;124;43m'\u001b[39;49m\u001b[43m]\u001b[49m\u001b[38;5;241;43m.\u001b[39;49m\u001b[43mtolist\u001b[49m\u001b[43m(\u001b[49m\u001b[43m)\u001b[49m\u001b[43m)\u001b[49m\n\u001b[1;32m     24\u001b[0m \u001b[38;5;28mprint\u001b[39m(\u001b[38;5;124m\"\u001b[39m\u001b[38;5;124mNumber of sentences in transcriptions column: \u001b[39m\u001b[38;5;124m\"\u001b[39m \u001b[38;5;241m+\u001b[39m \u001b[38;5;28mstr\u001b[39m(sent_count))\n\u001b[1;32m     25\u001b[0m \u001b[38;5;28mprint\u001b[39m(\u001b[38;5;124m\"\u001b[39m\u001b[38;5;124mNumber of unique words in transcriptions column: \u001b[39m\u001b[38;5;124m\"\u001b[39m \u001b[38;5;241m+\u001b[39m \u001b[38;5;28mstr\u001b[39m(word_count))\n",
      "Cell \u001b[0;32mIn[29], line 10\u001b[0m, in \u001b[0;36mget_sentence_word_count\u001b[0;34m(text_list)\u001b[0m\n\u001b[1;32m      8\u001b[0m vocab \u001b[38;5;241m=\u001b[39m {}\n\u001b[1;32m      9\u001b[0m \u001b[38;5;28;01mfor\u001b[39;00m text \u001b[38;5;129;01min\u001b[39;00m text_list:\n\u001b[0;32m---> 10\u001b[0m     sentences \u001b[38;5;241m=\u001b[39m \u001b[43msent_tokenize\u001b[49m\u001b[43m(\u001b[49m\u001b[38;5;28;43mstr\u001b[39;49m\u001b[43m(\u001b[49m\u001b[43mtext\u001b[49m\u001b[43m)\u001b[49m\u001b[38;5;241;43m.\u001b[39;49m\u001b[43mlower\u001b[49m\u001b[43m(\u001b[49m\u001b[43m)\u001b[49m\u001b[43m)\u001b[49m\n\u001b[1;32m     11\u001b[0m     sent_count \u001b[38;5;241m+\u001b[39m\u001b[38;5;241m=\u001b[39m \u001b[38;5;28mlen\u001b[39m(sentences)\n\u001b[1;32m     12\u001b[0m     \u001b[38;5;28;01mfor\u001b[39;00m sentence \u001b[38;5;129;01min\u001b[39;00m sentences:\n",
      "File \u001b[0;32m~/Github-my repos/Generative AI projects/Laser Approach/Tap health/Medical-Diagnosis-Chatbot-Using-Gen-AI/venv/lib/python3.10/site-packages/nltk/tokenize/__init__.py:106\u001b[0m, in \u001b[0;36msent_tokenize\u001b[0;34m(text, language)\u001b[0m\n\u001b[1;32m     96\u001b[0m \u001b[38;5;28;01mdef\u001b[39;00m \u001b[38;5;21msent_tokenize\u001b[39m(text, language\u001b[38;5;241m=\u001b[39m\u001b[38;5;124m\"\u001b[39m\u001b[38;5;124menglish\u001b[39m\u001b[38;5;124m\"\u001b[39m):\n\u001b[1;32m     97\u001b[0m \u001b[38;5;250m    \u001b[39m\u001b[38;5;124;03m\"\"\"\u001b[39;00m\n\u001b[1;32m     98\u001b[0m \u001b[38;5;124;03m    Return a sentence-tokenized copy of *text*,\u001b[39;00m\n\u001b[1;32m     99\u001b[0m \u001b[38;5;124;03m    using NLTK's recommended sentence tokenizer\u001b[39;00m\n\u001b[0;32m   (...)\u001b[0m\n\u001b[1;32m    104\u001b[0m \u001b[38;5;124;03m    :param language: the model name in the Punkt corpus\u001b[39;00m\n\u001b[1;32m    105\u001b[0m \u001b[38;5;124;03m    \"\"\"\u001b[39;00m\n\u001b[0;32m--> 106\u001b[0m     tokenizer \u001b[38;5;241m=\u001b[39m \u001b[43mPunktTokenizer\u001b[49m\u001b[43m(\u001b[49m\u001b[43mlanguage\u001b[49m\u001b[43m)\u001b[49m\n\u001b[1;32m    107\u001b[0m     \u001b[38;5;28;01mreturn\u001b[39;00m tokenizer\u001b[38;5;241m.\u001b[39mtokenize(text)\n",
      "File \u001b[0;32m~/Github-my repos/Generative AI projects/Laser Approach/Tap health/Medical-Diagnosis-Chatbot-Using-Gen-AI/venv/lib/python3.10/site-packages/nltk/tokenize/punkt.py:1744\u001b[0m, in \u001b[0;36mPunktTokenizer.__init__\u001b[0;34m(self, lang)\u001b[0m\n\u001b[1;32m   1742\u001b[0m \u001b[38;5;28;01mdef\u001b[39;00m \u001b[38;5;21m__init__\u001b[39m(\u001b[38;5;28mself\u001b[39m, lang\u001b[38;5;241m=\u001b[39m\u001b[38;5;124m\"\u001b[39m\u001b[38;5;124menglish\u001b[39m\u001b[38;5;124m\"\u001b[39m):\n\u001b[1;32m   1743\u001b[0m     PunktSentenceTokenizer\u001b[38;5;241m.\u001b[39m\u001b[38;5;21m__init__\u001b[39m(\u001b[38;5;28mself\u001b[39m)\n\u001b[0;32m-> 1744\u001b[0m     \u001b[38;5;28;43mself\u001b[39;49m\u001b[38;5;241;43m.\u001b[39;49m\u001b[43mload_lang\u001b[49m\u001b[43m(\u001b[49m\u001b[43mlang\u001b[49m\u001b[43m)\u001b[49m\n",
      "File \u001b[0;32m~/Github-my repos/Generative AI projects/Laser Approach/Tap health/Medical-Diagnosis-Chatbot-Using-Gen-AI/venv/lib/python3.10/site-packages/nltk/tokenize/punkt.py:1749\u001b[0m, in \u001b[0;36mPunktTokenizer.load_lang\u001b[0;34m(self, lang)\u001b[0m\n\u001b[1;32m   1746\u001b[0m \u001b[38;5;28;01mdef\u001b[39;00m \u001b[38;5;21mload_lang\u001b[39m(\u001b[38;5;28mself\u001b[39m, lang\u001b[38;5;241m=\u001b[39m\u001b[38;5;124m\"\u001b[39m\u001b[38;5;124menglish\u001b[39m\u001b[38;5;124m\"\u001b[39m):\n\u001b[1;32m   1747\u001b[0m     \u001b[38;5;28;01mfrom\u001b[39;00m \u001b[38;5;21;01mnltk\u001b[39;00m\u001b[38;5;21;01m.\u001b[39;00m\u001b[38;5;21;01mdata\u001b[39;00m \u001b[38;5;28;01mimport\u001b[39;00m find\n\u001b[0;32m-> 1749\u001b[0m     lang_dir \u001b[38;5;241m=\u001b[39m \u001b[43mfind\u001b[49m\u001b[43m(\u001b[49m\u001b[38;5;124;43mf\u001b[39;49m\u001b[38;5;124;43m\"\u001b[39;49m\u001b[38;5;124;43mtokenizers/punkt_tab/\u001b[39;49m\u001b[38;5;132;43;01m{\u001b[39;49;00m\u001b[43mlang\u001b[49m\u001b[38;5;132;43;01m}\u001b[39;49;00m\u001b[38;5;124;43m/\u001b[39;49m\u001b[38;5;124;43m\"\u001b[39;49m\u001b[43m)\u001b[49m\n\u001b[1;32m   1750\u001b[0m     \u001b[38;5;28mself\u001b[39m\u001b[38;5;241m.\u001b[39m_params \u001b[38;5;241m=\u001b[39m load_punkt_params(lang_dir)\n\u001b[1;32m   1751\u001b[0m     \u001b[38;5;28mself\u001b[39m\u001b[38;5;241m.\u001b[39m_lang \u001b[38;5;241m=\u001b[39m lang\n",
      "File \u001b[0;32m~/Github-my repos/Generative AI projects/Laser Approach/Tap health/Medical-Diagnosis-Chatbot-Using-Gen-AI/venv/lib/python3.10/site-packages/nltk/data.py:582\u001b[0m, in \u001b[0;36mfind\u001b[0;34m(resource_name, paths)\u001b[0m\n\u001b[1;32m    580\u001b[0m sep \u001b[38;5;241m=\u001b[39m \u001b[38;5;124m\"\u001b[39m\u001b[38;5;124m*\u001b[39m\u001b[38;5;124m\"\u001b[39m \u001b[38;5;241m*\u001b[39m \u001b[38;5;241m70\u001b[39m\n\u001b[1;32m    581\u001b[0m resource_not_found \u001b[38;5;241m=\u001b[39m \u001b[38;5;124mf\u001b[39m\u001b[38;5;124m\"\u001b[39m\u001b[38;5;130;01m\\n\u001b[39;00m\u001b[38;5;132;01m{\u001b[39;00msep\u001b[38;5;132;01m}\u001b[39;00m\u001b[38;5;130;01m\\n\u001b[39;00m\u001b[38;5;132;01m{\u001b[39;00mmsg\u001b[38;5;132;01m}\u001b[39;00m\u001b[38;5;130;01m\\n\u001b[39;00m\u001b[38;5;132;01m{\u001b[39;00msep\u001b[38;5;132;01m}\u001b[39;00m\u001b[38;5;130;01m\\n\u001b[39;00m\u001b[38;5;124m\"\u001b[39m\n\u001b[0;32m--> 582\u001b[0m \u001b[38;5;28;01mraise\u001b[39;00m \u001b[38;5;167;01mLookupError\u001b[39;00m(resource_not_found)\n",
      "\u001b[0;31mLookupError\u001b[0m: \n**********************************************************************\n  Resource \u001b[93mpunkt_tab\u001b[0m not found.\n  Please use the NLTK Downloader to obtain the resource:\n\n  \u001b[31m>>> import nltk\n  >>> nltk.download('punkt_tab')\n  \u001b[0m\n  For more information see: https://www.nltk.org/data.html\n\n  Attempted to load \u001b[93mtokenizers/punkt_tab/english/\u001b[0m\n\n  Searched in:\n    - '/home/mukesh/nltk_data'\n    - '/home/mukesh/Github-my repos/Generative AI projects/Laser Approach/Tap health/Medical-Diagnosis-Chatbot-Using-Gen-AI/venv/nltk_data'\n    - '/home/mukesh/Github-my repos/Generative AI projects/Laser Approach/Tap health/Medical-Diagnosis-Chatbot-Using-Gen-AI/venv/share/nltk_data'\n    - '/home/mukesh/Github-my repos/Generative AI projects/Laser Approach/Tap health/Medical-Diagnosis-Chatbot-Using-Gen-AI/venv/lib/nltk_data'\n    - '/usr/share/nltk_data'\n    - '/usr/local/share/nltk_data'\n    - '/usr/lib/nltk_data'\n    - '/usr/local/lib/nltk_data'\n**********************************************************************\n"
     ]
    }
   ],
   "source": [
    "# Remove rows with missing 'transcription'\n",
    "clinical_text_df = clinical_text_df[clinical_text_df['transcription'].notna()]\n",
    "\n",
    "# Function to get sentence and word count\n",
    "def get_sentence_word_count(text_list):\n",
    "    sent_count = 0\n",
    "    word_count = 0\n",
    "    vocab = {}\n",
    "    for text in text_list:\n",
    "        sentences = sent_tokenize(str(text).lower())\n",
    "        sent_count += len(sentences)\n",
    "        for sentence in sentences:\n",
    "            words = word_tokenize(sentence)\n",
    "            for word in words:\n",
    "                if word in vocab:\n",
    "                    vocab[word] += 1\n",
    "                else:\n",
    "                    vocab[word] = 1\n",
    "    word_count = len(vocab)\n",
    "    return sent_count, word_count\n",
    "\n",
    "# Get sentence and word count\n",
    "sent_count, word_count = get_sentence_word_count(clinical_text_df['transcription'].tolist())\n",
    "print(\"Number of sentences in transcriptions column: \" + str(sent_count))\n",
    "print(\"Number of unique words in transcriptions column: \" + str(word_count))\n"
   ]
  },
  {
   "cell_type": "code",
   "execution_count": null,
   "metadata": {},
   "outputs": [],
   "source": [
    "# Group by medical specialty and filter categories with more than 50 samples\n",
    "data_categories = clinical_text_df.groupby('medical_specialty')\n",
    "filtered_data_categories = data_categories.filter(lambda x: x.shape[0] > 50)\n",
    "final_data_categories = filtered_data_categories.groupby('medical_specialty')\n",
    "\n",
    "# Print category distribution\n",
    "i = 1\n",
    "print('===========Original Categories =======================')\n",
    "for catName, dataCategory in data_categories:\n",
    "    print('Cat:' + str(i) + ' ' + catName + ' : ' + str(len(dataCategory)))\n",
    "    i += 1\n",
    "print('==================================')\n",
    "\n",
    "print('============Reduced Categories ======================')\n",
    "i = 1\n",
    "for catName, dataCategory in final_data_categories:\n",
    "    print('Cat:' + str(i) + ' ' + catName + ' : ' + str(len(dataCategory)))\n",
    "    i += 1\n",
    "\n",
    "# Plot category distribution\n",
    "plt.figure(figsize=(10, 10))\n",
    "sns.countplot(y='medical_specialty', data=filtered_data_categories)\n",
    "plt.show()\n"
   ]
  },
  {
   "cell_type": "code",
   "execution_count": null,
   "metadata": {},
   "outputs": [],
   "source": [
    "# Sample transcriptions\n",
    "data = filtered_data_categories[['transcription', 'medical_specialty']]\n",
    "data = data.drop(data[data['transcription'].isna()].index)\n",
    "print('Sample Transcription 1:' + data.iloc[5]['transcription'] + '\\n')\n",
    "print('Sample Transcription 2:' + data.iloc[125]['transcription'] + '\\n')\n",
    "print('Sample Transcription 3:' + data.iloc[1000]['transcription'])\n"
   ]
  },
  {
   "cell_type": "code",
   "execution_count": null,
   "metadata": {},
   "outputs": [],
   "source": [
    "# Text preprocessing functions\n",
    "def clean_text(text):\n",
    "    text = text.translate(str.maketrans('', '', string.punctuation))\n",
    "    text = ''.join([w for w in text if not w.isdigit()])\n",
    "    REPLACE_BY_SPACE_RE = re.compile('[/(){}\\[\\]\\|@,;]')\n",
    "    text = REPLACE_BY_SPACE_RE.sub('', text.lower())\n",
    "    return text\n",
    "\n",
    "def lemmatize_text(text):\n",
    "    lemmatizer = WordNetLemmatizer()\n",
    "    words = word_tokenize(text)\n",
    "    lemmatized_words = [lemmatizer.lemmatize(word) for word in words]\n",
    "    return ' '.join(lemmatized_words)\n",
    "\n",
    "# Apply preprocessing\n",
    "data['transcription'] = data['transcription'].apply(lambda x: clean_text(lemmatize_text(x)))\n",
    "print('Sample Transcription 1:' + data.iloc[5]['transcription'] + '\\n')\n",
    "print('Sample Transcription 2:' + data.iloc[125]['transcription'] + '\\n')\n",
    "print('Sample Transcription 3:' + data.iloc[1000]['transcription'])\n"
   ]
  },
  {
   "cell_type": "code",
   "execution_count": null,
   "metadata": {},
   "outputs": [],
   "source": [
    "# Install spaCy model\n",
    "!pip install https://s3-us-west-2.amazonaws.com/ai2-s2-scispacy/releases/v0.2.5/en_ner_bionlp13cg_md-0.2.5.tar.gz\n",
    "import en_ner_bionlp13cg_md\n",
    "nlp = en_ner_bionlp13cg_md.load()\n",
    "\n",
    "def process_text(text):\n",
    "    wordlist = []\n",
    "    doc = nlp(text)\n",
    "    for ent in doc.ents:\n",
    "        wordlist.append(ent.text)\n",
    "    return ' '.join(wordlist)\n",
    "\n",
    "# Apply named entity recognition\n",
    "data['transcription'] = data['transcription'].apply(process_text)\n",
    "data['transcription'] = data['transcription'].apply(lambda x: clean_text(lemmatize_text(x)))\n",
    "print('Sample Transcription 1:' + data.iloc[5]['transcription'] + '\\n')\n",
    "print('Sample Transcription 2:' + data.iloc[125]['transcription'] + '\\n')\n",
    "print('Sample Transcription 3:' + data.iloc[1000]['transcription'])\n"
   ]
  },
  {
   "cell_type": "code",
   "execution_count": null,
   "metadata": {},
   "outputs": [],
   "source": [
    "# Vectorize text data\n",
    "vectorizer = TfidfVectorizer(analyzer='word', stop_words='english', ngram_range=(1, 3), max_df=0.75, min_df=5, use_idf=True, smooth_idf=True, sublinear_tf=True, max_features=1000)\n",
    "tfIdfMat = vectorizer.fit_transform(data['transcription'])\n",
    "feature_names = sorted(vectorizer.get_feature_names())\n",
    "print(feature_names)\n",
    "\n",
    "# Dimensionality reduction\n",
    "pca = PCA(n_components=0.95)\n",
    "tfIdfMat_reduced = pca.fit_transform(tfIdfMat.toarray())\n",
    "\n",
    "# t-SNE visualization\n",
    "tsne_results = TSNE(n_components=2, init='random', random_state=0, perplexity=40).fit_transform(tfIdfMat_reduced)\n",
    "plt.figure(figsize=(20, 10))\n",
    "palette = sns.hls_palette(12, l=.3, s=.9)\n",
    "sns.scatterplot(\n",
    "    x=tsne_results[:, 0], y=tsne_results[:, 1],\n",
    "    hue=data['medical_specialty'],\n",
    "    palette=palette,\n",
    "    legend=\"full\",\n",
    "    alpha=0.3\n",
    ")\n",
    "plt.show()\n"
   ]
  },
  {
   "cell_type": "code",
   "execution_count": null,
   "metadata": {},
   "outputs": [],
   "source": [
    "# Train-test split and model training\n",
    "X_train, X_test, y_train, y_test = train_test_split(tfIdfMat_reduced, data['medical_specialty'], stratify=data['medical_specialty'], random_state=1)\n",
    "print('Train_Set_Size:' + str(X_train.shape))\n",
    "print('Test_Set_Size:' + str(X_test.shape))\n",
    "\n",
    "clf = LogisticRegression(penalty='elasticnet', solver='saga', l1_ratio=0.5, random_state=1)\n",
    "clf.fit(X_train, y_train)\n",
    "y_test_pred = clf.predict(X_test)\n",
    "\n",
    "# Evaluation\n",
    "labels = data['medical_specialty'].unique()\n",
    "cm = confusion_matrix(y_test, y_test_pred, labels=labels)\n",
    "fig = plt.figure(figsize=(20, 20))\n",
    "ax = fig.add_subplot(1, 1, 1)\n",
    "sns.heatmap(cm, annot=True, cmap=\"Greens\", ax=ax, fmt='g')\n",
    "ax.set_xlabel('Predicted labels')\n",
    "ax.set_ylabel('True labels')\n",
    "ax.set_title('Confusion Matrix')\n",
    "ax.xaxis.set_ticklabels(labels)\n",
    "ax.yaxis.set_ticklabels(labels)\n",
    "plt.setp(ax.get_yticklabels(), rotation=30, horizontalalignment='right')\n",
    "plt.setp(ax.get_xticklabels(), rotation=30, horizontalalignment='right')\n",
    "plt.show()\n",
    "print(classification_report(y_test, y_test_pred, labels=labels))\n"
   ]
  },
  {
   "cell_type": "code",
   "execution_count": null,
   "metadata": {},
   "outputs": [],
   "source": [
    "# SMOTE for handling class imbalance\n",
    "smote = SMOTE(sampling_strategy='minority')\n",
    "X_resampled, y_resampled = smote.fit_resample(tfIdfMat_reduced, data['medical_specialty'])\n",
    "\n",
    "# Split and train on resampled data\n",
    "X_train, X_test, y_train, y_test = train_test_split(X_resampled, y_resampled, stratify=y_resampled, random_state=1)\n",
    "print('Train_Set_Size:' + str(X_train.shape))\n",
    "print('Test_Set_Size:' + str(X_test.shape))\n",
    "clf.fit(X_train, y_train)\n",
    "y_test_pred = clf.predict(X_test)\n",
    "\n",
    "# Evaluation on resampled data\n",
    "cm = confusion_matrix(y_test, y_test_pred, labels=labels)\n",
    "fig = plt.figure(figsize=(20, 20))\n",
    "ax = fig.add_subplot(1, 1, 1)\n",
    "sns.heatmap(cm, annot=True, cmap=\"Greens\", ax=ax, fmt='g')\n",
    "ax.set_xlabel('Predicted labels')\n",
    "ax.set_ylabel('True labels')\n",
    "ax.set_title('Confusion Matrix')\n",
    "ax.xaxis.set_ticklabels(labels)\n",
    "ax.yaxis.set_ticklabels(labels)\n",
    "plt.setp(ax.get_yticklabels(), rotation=30, horizontalalignment='right')\n",
    "plt.setp(ax.get_xticklabels(), rotation=30, horizontalalignment='right')\n",
    "plt.show()\n",
    "print(classification_report(y_test, y_test_pred, labels=labels))\n"
   ]
  },
  {
   "cell_type": "code",
   "execution_count": null,
   "metadata": {},
   "outputs": [],
   "source": [
    "# Additional data exploration\n",
    "mask = filtered_data_categories['medical_specialty'] == 'Radiology'\n",
    "radiologyData = filtered_data_categories[mask]\n",
    "print(radiologyData.head())\n",
    "\n",
    "mask = clinical_text_df['medical_specialty'] == 'Pediatrics - Neonatal'\n",
    "pediaData = clinical_text_df[mask]\n",
    "print(pediaData['transcription'].tolist()[1])\n",
    "\n",
    "mask = clinical_text_df['medical_specialty'] == 'Hematology - Oncology'\n",
    "oncoData = clinical_text_df[mask]\n",
    "print(oncoData['transcription'].tolist()[1])\n"
   ]
  },
  {
   "cell_type": "code",
   "execution_count": null,
   "metadata": {},
   "outputs": [],
   "source": [
    "# Cleanup\n",
    "gc.collect()\n"
   ]
  }
 ],
 "metadata": {
  "kernelspec": {
   "display_name": "venv",
   "language": "python",
   "name": "python3"
  },
  "language_info": {
   "codemirror_mode": {
    "name": "ipython",
    "version": 3
   },
   "file_extension": ".py",
   "mimetype": "text/x-python",
   "name": "python",
   "nbconvert_exporter": "python",
   "pygments_lexer": "ipython3",
   "version": "3.10.12"
  }
 },
 "nbformat": 4,
 "nbformat_minor": 2
}
